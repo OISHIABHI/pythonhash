{
  "nbformat": 4,
  "nbformat_minor": 0,
  "metadata": {
    "colab": {
      "name": "Oishi.ipynb",
      "provenance": []
    },
    "kernelspec": {
      "name": "python3",
      "display_name": "Python 3"
    },
    "language_info": {
      "name": "python"
    }
  },
  "cells": [
    {
      "cell_type": "code",
      "metadata": {
        "id": "AcJrCrsrRd9U"
      },
      "source": [
        "#PROGRAM IN PYHTON TO GENERATE MD5 OF STRING DATA "
      ],
      "execution_count": null,
      "outputs": []
    },
    {
      "cell_type": "code",
      "metadata": {
        "id": "t30uoxsRSFmj"
      },
      "source": [
        "import hashlib"
      ],
      "execution_count": 1,
      "outputs": []
    },
    {
      "cell_type": "code",
      "metadata": {
        "id": "5_HijlSnSH8u"
      },
      "source": [
        "oi = hashlib.md5(b'PythonProgram')"
      ],
      "execution_count": 2,
      "outputs": []
    },
    {
      "cell_type": "code",
      "metadata": {
        "colab": {
          "base_uri": "https://localhost:8080/"
        },
        "id": "Op7ThAY0Sek3",
        "outputId": "57b66327-9a01-4a27-98d9-da0a1d801a14"
      },
      "source": [
        "print(\"The byte equivalent of hash is: \", end=\" \")\n",
        "print(oi.digest())"
      ],
      "execution_count": 3,
      "outputs": [
        {
          "output_type": "stream",
          "text": [
            "The byte equivalent of hash is:  b'\\x1d\\xf5l\\x82vn\\xd7\\xb7?\\xd3qG\\x1e\\xcd\\x7f\\xec'\n"
          ],
          "name": "stdout"
        }
      ]
    }
  ]
}